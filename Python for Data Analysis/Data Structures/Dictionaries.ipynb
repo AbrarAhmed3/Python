{
 "cells": [
  {
   "cell_type": "code",
   "execution_count": 3,
   "metadata": {},
   "outputs": [
    {
     "name": "stdout",
     "output_type": "stream",
     "text": [
      "{'first_name': 'Sara', 'last_name': 'Williams'} <class 'dict'>\n",
      "John\n",
      "Doe\n"
     ]
    }
   ],
   "source": [
    "# Dictionaries: is a collection which is unordered, changeable and indexed. No duplicate members. \n",
    "# similar to an object in javascript\n",
    "# key value pairs\n",
    "# key value pairs are separated by a colon\n",
    "# keys are unique within a dictionary while values may not be.\n",
    "# values can be of any data type and can repeat but keys must be of an immutable data type such as strings, numbers, or tuples.\n",
    "# keys are case sensitive\n",
    "\n",
    "# create a dictionary\n",
    "person = {\n",
    "    'first_name': 'John',\n",
    "    'last_name': 'Doe',\n",
    "    'age': 30\n",
    "}\n",
    "\n",
    "# use a constructor\n",
    "person2 = dict(first_name='Sara', last_name='Williams')\n",
    "print(person2, type(person2))\n",
    "\n",
    "# get value\n",
    "print(person['first_name'])\n",
    "print(person.get('last_name'))\n",
    "\n"
   ]
  },
  {
   "cell_type": "code",
   "execution_count": 5,
   "metadata": {},
   "outputs": [
    {
     "name": "stdout",
     "output_type": "stream",
     "text": [
      "{}\n",
      "<class 'dict'>\n"
     ]
    }
   ],
   "source": [
    "# create a empty dictionary\n",
    "person3 = {}\n",
    "print(person3)\n",
    "print(type(person3))"
   ]
  },
  {
   "cell_type": "code",
   "execution_count": 6,
   "metadata": {},
   "outputs": [
    {
     "name": "stdout",
     "output_type": "stream",
     "text": [
      "{'first_name': 'Jane', 'last_name': 'Doe', 'age': 25}\n"
     ]
    }
   ],
   "source": [
    "person3['first_name'] = 'Jane'\n",
    "person3['last_name'] = 'Doe'\n",
    "person3['age'] = 25\n",
    "print(person3)"
   ]
  },
  {
   "cell_type": "code",
   "execution_count": 10,
   "metadata": {},
   "outputs": [
    {
     "name": "stdout",
     "output_type": "stream",
     "text": [
      "{'first_name': 'Abrar', 'last_name': 'Ahmed', 'age': 23, 'city': 'Dhaka'}\n"
     ]
    }
   ],
   "source": [
    "person3['first_name'] = 'Abrar'\n",
    "person3['last_name'] = 'Ahmed'\n",
    "person3['age'] = 23\n",
    "person3['city'] = 'Dhaka'\n",
    "print(person3) # will update the values"
   ]
  },
  {
   "cell_type": "code",
   "execution_count": 9,
   "metadata": {},
   "outputs": [
    {
     "name": "stdout",
     "output_type": "stream",
     "text": [
      "Abrar\n"
     ]
    }
   ],
   "source": [
    "# Accessing items\n",
    "print(person3['first_name'])"
   ]
  },
  {
   "cell_type": "code",
   "execution_count": 13,
   "metadata": {},
   "outputs": [
    {
     "name": "stdout",
     "output_type": "stream",
     "text": [
      "Ahmed\n",
      "None\n",
      "Not Found\n"
     ]
    }
   ],
   "source": [
    "# get method\n",
    "print(person3.get('last_name'))\n",
    "print(person3.get('grade')) # will return None\n",
    "print(person3.get('grade', 'Not Found')) # will return Not Found | we can add a Default Value if it is not found instead of returning None"
   ]
  },
  {
   "cell_type": "code",
   "execution_count": 14,
   "metadata": {},
   "outputs": [
    {
     "name": "stdout",
     "output_type": "stream",
     "text": [
      "{'first_name': 'John', 'last_name': 'Ahmed', 'age': 23, 'city': 'Dhaka'}\n"
     ]
    }
   ],
   "source": [
    "# Modify values\n",
    "# Dictionary is mutable so we can update , add or remove values\n",
    "# update value\n",
    "person3['first_name'] = 'John'\n",
    "print(person3)"
   ]
  },
  {
   "cell_type": "code",
   "execution_count": 15,
   "metadata": {},
   "outputs": [
    {
     "name": "stdout",
     "output_type": "stream",
     "text": [
      "{'first_name': 'John', 'last_name': 'Ahmed', 'age': 23, 'city': 'Dhaka', 'phone': '555-555-5555'}\n"
     ]
    }
   ],
   "source": [
    "# Add key/value\n",
    "person3['phone'] = '555-555-5555'\n",
    "print(person3)"
   ]
  },
  {
   "cell_type": "code",
   "execution_count": 16,
   "metadata": {},
   "outputs": [
    {
     "name": "stdout",
     "output_type": "stream",
     "text": [
      "{'first_name': 'John', 'last_name': 'Ahmed', 'age': 23, 'city': 'Dhaka'}\n"
     ]
    }
   ],
   "source": [
    "# Remove key/value\n",
    "del person3['phone']\n",
    "print(person3)"
   ]
  },
  {
   "cell_type": "code",
   "execution_count": 18,
   "metadata": {},
   "outputs": [
    {
     "name": "stdout",
     "output_type": "stream",
     "text": [
      "dict_keys(['first_name', 'last_name', 'age', 'city'])\n",
      "dict_values(['John', 'Ahmed', 23, 'Dhaka'])\n",
      "dict_items([('first_name', 'John'), ('last_name', 'Ahmed'), ('age', 23), ('city', 'Dhaka')])\n"
     ]
    }
   ],
   "source": [
    "# Commoon Dictionary Methods\n",
    "# keys\n",
    "print(person3.keys()) # will return all the keys\n",
    "\n",
    "# values\n",
    "print(person3.values()) # will return all the values\n",
    "\n",
    "# items\n",
    "print(person3.items()) # will return all the key value pairs"
   ]
  },
  {
   "cell_type": "code",
   "execution_count": 22,
   "metadata": {},
   "outputs": [
    {
     "name": "stdout",
     "output_type": "stream",
     "text": [
      "{'first_name': 'John', 'last_name': 'Ahmed', 'age': 23, 'city': 'Boston'}\n",
      "{'first_name': 'John', 'last_name': 'Ahmed', 'age': 23, 'city': 'Boston'}\n",
      "{'first_name': 'John', 'last_name': 'Ahmed', 'age': 23, 'city': 'Boston'}\n",
      "{'first_name': 'John', 'last_name': 'Ahmed', 'age': 23, 'city': 'Boston'}\n"
     ]
    }
   ],
   "source": [
    "# normal way to copy a dictionary will not work as it will reference the same memory location so if we update one it will update the other\n",
    "person4 = person3\n",
    "print(person3)\n",
    "print(person4)\n",
    "\n",
    "person4['city'] = 'Boston'\n",
    "print(person3)\n",
    "print(person4)"
   ]
  },
  {
   "cell_type": "code",
   "execution_count": 25,
   "metadata": {},
   "outputs": [
    {
     "name": "stdout",
     "output_type": "stream",
     "text": [
      "{'first_name': 'John', 'last_name': 'Ahmed', 'age': 23, 'city': 'Boston'}\n",
      "{'first_name': 'John', 'last_name': 'Ahmed', 'age': 23, 'city': 'Boston'}\n",
      "{'first_name': 'John', 'last_name': 'Ahmed', 'age': 23, 'city': 'Boston'}\n",
      "{'first_name': 'John', 'last_name': 'Ahmed', 'age': 23, 'city': 'New York'}\n"
     ]
    }
   ],
   "source": [
    "# shallow copy\n",
    "person5 = person3.copy() # will create a new memory location\n",
    "print(person3)\n",
    "print(person5)\n",
    "\n",
    "person5['city'] = 'New York' # will only update person5\n",
    "print(person3)\n",
    "print(person5)\n"
   ]
  },
  {
   "cell_type": "code",
   "execution_count": 27,
   "metadata": {},
   "outputs": [
    {
     "name": "stdout",
     "output_type": "stream",
     "text": [
      "first_name\n",
      "last_name\n",
      "age\n",
      "city\n"
     ]
    }
   ],
   "source": [
    "# Iterating through a dictionary\n",
    "\n",
    "# keys\n",
    "for key in person3:\n",
    "    print(key) # will return all the keys\n",
    "\n",
    "\n",
    "\n"
   ]
  },
  {
   "cell_type": "code",
   "execution_count": 28,
   "metadata": {},
   "outputs": [
    {
     "name": "stdout",
     "output_type": "stream",
     "text": [
      "John\n",
      "Ahmed\n",
      "23\n",
      "Boston\n"
     ]
    }
   ],
   "source": [
    "# values\n",
    "for value in person3.values(): # will return all the values\n",
    "    print(value)"
   ]
  },
  {
   "cell_type": "code",
   "execution_count": 30,
   "metadata": {},
   "outputs": [
    {
     "name": "stdout",
     "output_type": "stream",
     "text": [
      "first_name : John\n",
      "last_name : Ahmed\n",
      "age : 23\n",
      "city : Boston\n"
     ]
    }
   ],
   "source": [
    "# key value pairs\n",
    "for key, value in person3.items(): # will return all the key value pairs\n",
    "    print(key,\":\", value)"
   ]
  },
  {
   "cell_type": "code",
   "execution_count": 32,
   "metadata": {},
   "outputs": [
    {
     "name": "stdout",
     "output_type": "stream",
     "text": [
      "True\n",
      "False\n"
     ]
    }
   ],
   "source": [
    "\n",
    "# check if key exists\n",
    "print('first_name' in person3) # will return True\n",
    "print('grade' in person3) # will return False"
   ]
  },
  {
   "cell_type": "code",
   "execution_count": 33,
   "metadata": {},
   "outputs": [
    {
     "name": "stdout",
     "output_type": "stream",
     "text": [
      "True\n",
      "False\n",
      "John\n",
      "None\n",
      "Not Found\n"
     ]
    }
   ],
   "source": [
    "# check if value exists\n",
    "print('John' in person3.values()) # will return True\n",
    "print('Doe' in person3.values()) # will return False\n",
    "\n",
    "# check if key exists using get method\n",
    "print(person3.get('first_name')) # will return John\n",
    "print(person3.get('grade')) # will return None\n",
    "print(person3.get('grade', 'Not Found')) # will return Not Found"
   ]
  },
  {
   "cell_type": "code",
   "execution_count": 35,
   "metadata": {},
   "outputs": [
    {
     "name": "stdout",
     "output_type": "stream",
     "text": [
      "{'first_name': 'John', 'last_name': 'Doe', 'age': 30, 'address': {'street': '50 Main St', 'city': 'Boston', 'state': 'MA'}}\n",
      "Boston\n",
      "MA\n"
     ]
    }
   ],
   "source": [
    "# Nested Dictionaries\n",
    "person6 = {\n",
    "    'first_name': 'John',\n",
    "    'last_name': 'Doe',\n",
    "    'age': 30,\n",
    "    'address': {\n",
    "        'street': '50 Main St',\n",
    "        'city': 'Boston',\n",
    "        'state': 'MA'\n",
    "    }\n",
    "}\n",
    "\n",
    "print(person6)\n",
    "print(person6['address']['city']) # will return Boston\n",
    "print(person6['address']['state']) # will return MA"
   ]
  },
  {
   "cell_type": "code",
   "execution_count": 38,
   "metadata": {},
   "outputs": [
    {
     "name": "stdout",
     "output_type": "stream",
     "text": [
      "first_name : John\n",
      "last_name : Doe\n",
      "age : 30\n",
      "address : {'street': '50 Main St', 'city': 'Boston', 'state': 'MA'}\n",
      "------------------------\n",
      "street : 50 Main St\n",
      "city : Boston\n",
      "state : MA\n"
     ]
    }
   ],
   "source": [
    "# Iterate through nested dictionary\n",
    "for key, value in person6.items():\n",
    "    print(key,\":\", value)\n",
    "\n",
    "print('------------------------')\n",
    "\n",
    "for key, value in person6['address'].items():\n",
    "    print(key,\":\", value)"
   ]
  },
  {
   "cell_type": "code",
   "execution_count": 40,
   "metadata": {},
   "outputs": [
    {
     "name": "stdout",
     "output_type": "stream",
     "text": [
      "{1: 1, 2: 4, 3: 9, 4: 16, 5: 25, 6: 36, 7: 49, 8: 64, 9: 81, 10: 100}\n"
     ]
    }
   ],
   "source": [
    "# Dictionary comprehension\n",
    "\n",
    "# create a dictionary with numbers as keys\n",
    "nums = {i: i * i for i in range(1, 11)} # i is the key and i * i is the value | will return {1: 1, 2: 4, 3: 9, 4: 16, 5: 25, 6: 36, 7: 49, 8: 64, 9: 81, 10: 100}\n",
    "print(nums)"
   ]
  },
  {
   "cell_type": "code",
   "execution_count": 42,
   "metadata": {},
   "outputs": [
    {
     "name": "stdout",
     "output_type": "stream",
     "text": [
      "{0: 0, 2: 4, 4: 16, 6: 36, 8: 64}\n"
     ]
    }
   ],
   "source": [
    "# create a dictionary with numbers as keys and values as square of the numbers\n",
    "nums2 = {i: i * i for i in range(10) if i % 2 == 0} # i is the key and i * i is the value | will return {2: 4, 4: 16, 6: 36, 8: 64, 10: 100}\n",
    "print(nums2)\n"
   ]
  },
  {
   "cell_type": "code",
   "execution_count": 43,
   "metadata": {},
   "outputs": [
    {
     "name": "stdout",
     "output_type": "stream",
     "text": [
      "{'apple': 2, 'orange': 1, 'banana': 1}\n"
     ]
    }
   ],
   "source": [
    "# Practical Example\n",
    "# use a dictionary to count the frequency of elements in a list\n",
    "\n",
    "fruits = ['apple', 'orange', 'apple', 'banana']\n",
    "fruit_count = {}\n",
    "\n",
    "for fruit in fruits:\n",
    "    if fruit in fruit_count:\n",
    "        fruit_count[fruit] += 1\n",
    "    else:\n",
    "        fruit_count[fruit] = 1\n",
    "\n",
    "print(fruit_count) # will return {'apple': 2, 'orange': 1, 'banana': 1}\n"
   ]
  },
  {
   "cell_type": "code",
   "execution_count": 45,
   "metadata": {},
   "outputs": [
    {
     "name": "stdout",
     "output_type": "stream",
     "text": [
      "{'first_name': 'John', 'last_name': 'Doe', 'city': 'Boston', 'state': 'MA'}\n",
      "{'city': 'Boston', 'state': 'MA'}\n"
     ]
    }
   ],
   "source": [
    "# Merge two dictionaries\n",
    "person7 = {'first_name': 'John', 'last_name': 'Doe'}\n",
    "person8 = {'city': 'Boston', 'state': 'MA'}\n",
    "\n",
    "person7.update(person8)\n",
    "print(person7) # will return {'first_name': 'John', 'last_name': 'Doe', 'city': 'Boston', 'state': 'MA'}\n",
    "print(person8) # will return {'city': 'Boston', 'state': 'MA'}"
   ]
  }
 ],
 "metadata": {
  "kernelspec": {
   "display_name": "Python 3",
   "language": "python",
   "name": "python3"
  },
  "language_info": {
   "codemirror_mode": {
    "name": "ipython",
    "version": 3
   },
   "file_extension": ".py",
   "mimetype": "text/x-python",
   "name": "python",
   "nbconvert_exporter": "python",
   "pygments_lexer": "ipython3",
   "version": "3.12.0"
  }
 },
 "nbformat": 4,
 "nbformat_minor": 2
}
