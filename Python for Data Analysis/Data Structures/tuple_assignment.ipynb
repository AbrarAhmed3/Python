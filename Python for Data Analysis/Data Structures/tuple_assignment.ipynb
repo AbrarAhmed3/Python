{
 "cells": [
  {
   "cell_type": "markdown",
   "metadata": {},
   "source": [
    "# Module 3: Data Structures Assignments\n",
    "## Lesson 3.2: Tuples\n",
    "### Assignment 1: Creating and Accessing Tuples\n",
    "\n",
    "Create a tuple with the first 10 positive integers. Print the tuple."
   ]
  },
  {
   "cell_type": "code",
   "execution_count": 14,
   "id": "ecfa9fbd",
   "metadata": {},
   "outputs": [
    {
     "name": "stdout",
     "output_type": "stream",
     "text": [
      "(1, 2, 3, 4, 5, 6, 7, 8, 9, 10)\n",
      "<class 'tuple'>\n"
     ]
    }
   ],
   "source": [
    "tpl = tuple(range(1, 11))\n",
    "print(tpl)\n",
    "print(type(tpl))"
   ]
  },
  {
   "cell_type": "markdown",
   "id": "8a0526b8",
   "metadata": {},
   "source": [
    "### Assignment 2: Accessing Tuple Elements\n",
    "\n",
    "Print the first, middle, and last elements of the tuple created in Assignment 1."
   ]
  },
  {
   "cell_type": "code",
   "execution_count": 3,
   "id": "fac2fded",
   "metadata": {},
   "outputs": [
    {
     "name": "stdout",
     "output_type": "stream",
     "text": [
      "1\n",
      "6\n",
      "10\n"
     ]
    }
   ],
   "source": [
    "print(tpl[0]) # first element\n",
    "print(tpl[int(len(tpl)/2)]) # middle element\n",
    "print(tpl[-1]) # last element"
   ]
  },
  {
   "cell_type": "markdown",
   "id": "c973a4b7",
   "metadata": {},
   "source": [
    "### Assignment 3: Tuple Slicing\n",
    "\n",
    "Print the first three elements, the last three elements, and the elements from index 2 to 5 of the tuple created in Assignment 1."
   ]
  },
  {
   "cell_type": "code",
   "execution_count": 10,
   "id": "ec6ec242",
   "metadata": {},
   "outputs": [
    {
     "name": "stdout",
     "output_type": "stream",
     "text": [
      "(1, 2, 3, 4, 5, 6, 7, 8, 9, 10)\n",
      "(1, 2, 3)\n",
      "(8, 9, 10)\n",
      "(3, 4, 5, 6)\n"
     ]
    }
   ],
   "source": [
    "print(tpl)\n",
    "print(tpl[:3]) # first three elements\n",
    "print(tpl[-3:]) # last three elements\n",
    "print(tpl[2:6]) # printing index 2 to 5 that is 3rd to 6th element"
   ]
  },
  {
   "cell_type": "markdown",
   "id": "444e3280",
   "metadata": {},
   "source": [
    "### Assignment 4: Nested Tuples\n",
    "\n",
    "Create a nested tuple representing a 3x3 matrix and print the matrix. Access and print the element at the second row and third column."
   ]
  },
  {
   "cell_type": "code",
   "execution_count": 12,
   "id": "8d3c55f6",
   "metadata": {},
   "outputs": [
    {
     "name": "stdout",
     "output_type": "stream",
     "text": [
      "((1, 2, 3), (4, 5, 6), (7, 8, 9))\n",
      "6\n"
     ]
    }
   ],
   "source": [
    "matrix = (\n",
    "    (1, 2, 3), \n",
    "    (4, 5, 6), \n",
    "    (7, 8, 9)\n",
    "        )\n",
    "\n",
    "print(matrix)\n",
    "print(matrix[1][2]) # 2nd row 3rd column"
   ]
  },
  {
   "cell_type": "markdown",
   "id": "7843e5b8",
   "metadata": {},
   "source": [
    "### Assignment 5: Tuple Concatenation\n",
    "\n",
    "Concatenate two tuples: (1, 2, 3) and (4, 5, 6). Print the resulting tuple."
   ]
  },
  {
   "cell_type": "code",
   "execution_count": 13,
   "id": "19dca6f8",
   "metadata": {},
   "outputs": [
    {
     "name": "stdout",
     "output_type": "stream",
     "text": [
      "(1, 2, 3, 4, 5, 6)\n"
     ]
    }
   ],
   "source": [
    "tpl1 = (1, 2, 3)\n",
    "tpl2 = (4, 5, 6)\n",
    "\n",
    "tpl3 = tpl1 + tpl2\n",
    "print(tpl3)"
   ]
  },
  {
   "cell_type": "markdown",
   "id": "389d7504",
   "metadata": {},
   "source": [
    "### Assignment 6: Tuple Methods\n",
    "\n",
    "Create a tuple with duplicate elements and count the occurrences of an element. Find the index of the first occurrence of an element in the tuple."
   ]
  },
  {
   "cell_type": "code",
   "execution_count": 15,
   "id": "e1cea613",
   "metadata": {},
   "outputs": [
    {
     "name": "stdout",
     "output_type": "stream",
     "text": [
      "3\n",
      "1\n"
     ]
    }
   ],
   "source": [
    "tpl_methods = (1,2,2,3,4,4,4,5)\n",
    "print(tpl_methods.count(4)) # count the number of 4 in tuple\n",
    "print(tpl_methods.index(2)) # index of first occurance of 2"
   ]
  },
  {
   "cell_type": "markdown",
   "id": "146c6107",
   "metadata": {},
   "source": [
    "### Assignment 7: Unpacking Tuples\n",
    "\n",
    "Create a tuple with 5 elements and unpack it into 5 variables. Print the variables."
   ]
  },
  {
   "cell_type": "code",
   "execution_count": 17,
   "id": "f0d9e30f",
   "metadata": {},
   "outputs": [
    {
     "name": "stdout",
     "output_type": "stream",
     "text": [
      "(1, 2, 3, 4, 5)\n",
      "1\n",
      "2\n",
      "3\n",
      "4\n",
      "5\n"
     ]
    }
   ],
   "source": [
    "tpl_packed = (1, 2, 3, 4, 5)\n",
    "print(tpl_packed)\n",
    "a, b, c, d, e = tpl_packed\n",
    "print(a)\n",
    "print(b)\n",
    "print(c)\n",
    "print(d)\n",
    "print(e)"
   ]
  },
  {
   "cell_type": "markdown",
   "id": "b98a9819",
   "metadata": {},
   "source": [
    "### Assignment 8: Tuple Conversion\n",
    "\n",
    "Convert a list of the first 5 positive integers to a tuple. Print the tuple."
   ]
  },
  {
   "cell_type": "code",
   "execution_count": 19,
   "id": "40b1379b",
   "metadata": {},
   "outputs": [
    {
     "name": "stdout",
     "output_type": "stream",
     "text": [
      "<class 'tuple'>\n",
      "(1, 2, 3, 4, 5)\n"
     ]
    }
   ],
   "source": [
    "lst = [1, 2, 3, 4, 5]\n",
    "tpl_converted = tuple(lst)\n",
    "print(type(tpl_converted))\n",
    "print(tpl_converted)"
   ]
  },
  {
   "cell_type": "markdown",
   "id": "d29f006c",
   "metadata": {},
   "source": [
    "### Assignment 9: Tuple of Tuples\n",
    "\n",
    "Create a tuple containing 3 tuples, each with 3 elements. Print the tuple of tuples."
   ]
  },
  {
   "cell_type": "code",
   "execution_count": 20,
   "id": "41b265b9",
   "metadata": {},
   "outputs": [
    {
     "name": "stdout",
     "output_type": "stream",
     "text": [
      "((1, 2, 3), (4, 5, 6), (7, 8, 9))\n"
     ]
    }
   ],
   "source": [
    "tpl_of_tpl = ((1, 2, 3), (4, 5, 6), (7, 8, 9))\n",
    "print(tpl_of_tpl)"
   ]
  },
  {
   "cell_type": "markdown",
   "id": "95748ed4",
   "metadata": {},
   "source": [
    "### Assignment 10: Tuple and List\n",
    "\n",
    "Create a tuple with the first 5 positive integers. Convert it to a list, append the number 6, and convert it back to a tuple. Print the resulting tuple."
   ]
  },
  {
   "cell_type": "code",
   "execution_count": 21,
   "id": "53b71b20",
   "metadata": {},
   "outputs": [
    {
     "name": "stdout",
     "output_type": "stream",
     "text": [
      "(1, 2, 3, 4, 5, 6)\n"
     ]
    }
   ],
   "source": [
    "tpl_of_positive_int = (1, 2, 3, 4, 5)\n",
    "lst_of_positive_int = list(tpl_of_positive_int)\n",
    "lst_of_positive_int.append(6)\n",
    "tpl_of_positive_int = tuple(lst_of_positive_int)\n",
    "print(tpl_of_positive_int)"
   ]
  },
  {
   "cell_type": "markdown",
   "id": "5f6a87dc",
   "metadata": {},
   "source": [
    "### Assignment 11: Tuple and String\n",
    "\n",
    "Create a tuple with the characters of a string. Join the tuple elements into a single string. Print the string."
   ]
  },
  {
   "cell_type": "code",
   "execution_count": 23,
   "id": "79e65e30",
   "metadata": {},
   "outputs": [
    {
     "name": "stdout",
     "output_type": "stream",
     "text": [
      "('H', 'a', 'r', 'r', 'y')\n",
      "Harry\n"
     ]
    }
   ],
   "source": [
    "string = \"Harry\"\n",
    "tpl_of_string = tuple(string)\n",
    "print(tpl_of_string)\n",
    "joined_string = ''.join(tpl_of_string)\n",
    "print(joined_string)"
   ]
  },
  {
   "cell_type": "markdown",
   "id": "af7a3f4f",
   "metadata": {},
   "source": [
    "### Assignment 12: Tuple and Dictionary\n",
    "\n",
    "Create a dictionary with tuple keys and integer values. Print the dictionary."
   ]
  },
  {
   "cell_type": "code",
   "execution_count": 25,
   "id": "10cd4d1e",
   "metadata": {},
   "outputs": [
    {
     "name": "stdout",
     "output_type": "stream",
     "text": [
      "{(1, 2): 'one', (3, 4): 'two'}\n",
      "<class 'dict'>\n"
     ]
    }
   ],
   "source": [
    "tpl_dict = {(1,2):\"one\", (3,4):\"two\"}\n",
    "print(tpl_dict)\n",
    "print(type(tpl_dict))"
   ]
  },
  {
   "cell_type": "markdown",
   "id": "65a2a2ba",
   "metadata": {},
   "source": [
    "### Assignment 13: Nested Tuple Iteration\n",
    "\n",
    "Create a nested tuple and iterate over the elements, printing each element."
   ]
  },
  {
   "cell_type": "code",
   "execution_count": 29,
   "id": "d2b62d4f",
   "metadata": {},
   "outputs": [
    {
     "name": "stdout",
     "output_type": "stream",
     "text": [
      "((1, 2, 3), (4, 5, 6), (7, 8, 9))\n",
      "1 2 3 \n",
      "4 5 6 \n",
      "7 8 9 \n"
     ]
    }
   ],
   "source": [
    "tpl_nested = ((1,2,3), (4,5,6), (7,8,9))\n",
    "print(tpl_nested)\n",
    "\n",
    "for tpl in tpl_nested:\n",
    "    for i in tpl:\n",
    "        print(i, end=' ')\n",
    "    print()\n"
   ]
  },
  {
   "cell_type": "markdown",
   "id": "f36a0d8e",
   "metadata": {},
   "source": [
    "### Assignment 14: Tuple and Set\n",
    "\n",
    "Create a tuple with duplicate elements. Convert it to a set to remove duplicates and print the resulting set."
   ]
  },
  {
   "cell_type": "code",
   "execution_count": 30,
   "id": "c9ee3d8c",
   "metadata": {},
   "outputs": [
    {
     "name": "stdout",
     "output_type": "stream",
     "text": [
      "(1, 2, 2, 3, 4, 4, 4, 5)\n",
      "{1, 2, 3, 4, 5}\n"
     ]
    }
   ],
   "source": [
    "tpl_with_duplicate_elem = (1, 2, 2, 3, 4, 4, 4, 5)\n",
    "print(tpl_with_duplicate_elem)\n",
    "\n",
    "set_from_tpl = set(tpl_with_duplicate_elem)\n",
    "print(set_from_tpl)"
   ]
  },
  {
   "cell_type": "markdown",
   "id": "a0338864",
   "metadata": {},
   "source": [
    "### Assignment 15: Tuple Functions\n",
    "\n",
    "Write functions that take a tuple and return the minimum, maximum, and sum of the elements. Print the results for a sample tuple."
   ]
  },
  {
   "cell_type": "code",
   "execution_count": 35,
   "id": "86cdc82b",
   "metadata": {},
   "outputs": [
    {
     "name": "stdout",
     "output_type": "stream",
     "text": [
      "Minimum element is:  1\n",
      "Maximum element is:  5\n",
      "Sum of elements is:  15\n"
     ]
    }
   ],
   "source": [
    "def min_max_sumOfElements(tpl):\n",
    "    print(\"Minimum element is: \", min(tpl))\n",
    "    print(\"Maximum element is: \", max(tpl))\n",
    "    print(\"Sum of elements is: \", sum(tpl))\n",
    "\n",
    "sample_tpl = (1, 2, 3, 4, 5)\n",
    "min_max_sumOfElements(sample_tpl)"
   ]
  }
 ],
 "metadata": {
  "kernelspec": {
   "display_name": "Python 3",
   "language": "python",
   "name": "python3"
  },
  "language_info": {
   "codemirror_mode": {
    "name": "ipython",
    "version": 3
   },
   "file_extension": ".py",
   "mimetype": "text/x-python",
   "name": "python",
   "nbconvert_exporter": "python",
   "pygments_lexer": "ipython3",
   "version": "3.12.0"
  }
 },
 "nbformat": 4,
 "nbformat_minor": 5
}
