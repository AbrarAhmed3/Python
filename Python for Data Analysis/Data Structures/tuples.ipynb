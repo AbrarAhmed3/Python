{
 "cells": [
  {
   "cell_type": "code",
   "execution_count": 2,
   "metadata": {},
   "outputs": [
    {
     "name": "stdout",
     "output_type": "stream",
     "text": [
      "('apple', 'banana', 'cherry')\n"
     ]
    }
   ],
   "source": [
    "# Tuples: is a collection of items which is ordered and unchangeable/Immutable . Allows duplicate members.\n",
    "# Tuple items are indexed, the first item has index [0], the second item has index [1] etc.\n",
    "# Tuples are written with round brackets.\n",
    "\n",
    "# Create a Tuple:\n",
    "tuple1 = (\"apple\", \"banana\", \"cherry\")\n",
    "print(tuple1)\n"
   ]
  },
  {
   "cell_type": "code",
   "execution_count": 3,
   "metadata": {},
   "outputs": [
    {
     "name": "stdout",
     "output_type": "stream",
     "text": [
      "<class 'tuple'>\n"
     ]
    }
   ],
   "source": [
    "tple = tuple()\n",
    "print(type(tple))"
   ]
  },
  {
   "cell_type": "code",
   "execution_count": 4,
   "metadata": {},
   "outputs": [
    {
     "name": "stdout",
     "output_type": "stream",
     "text": [
      "(1, 2, 3, 4, 5)\n"
     ]
    }
   ],
   "source": [
    "numbers = tuple([1, 2, 3, 4, 5])\n",
    "print(numbers)"
   ]
  },
  {
   "cell_type": "code",
   "execution_count": 6,
   "metadata": {},
   "outputs": [
    {
     "name": "stdout",
     "output_type": "stream",
     "text": [
      "banana\n"
     ]
    },
    {
     "data": {
      "text/plain": [
       "2"
      ]
     },
     "execution_count": 6,
     "metadata": {},
     "output_type": "execute_result"
    }
   ],
   "source": [
    "# Access Tuple Items:\n",
    "print(tuple1[1])\n",
    "numbers[1]"
   ]
  },
  {
   "cell_type": "code",
   "execution_count": 7,
   "metadata": {},
   "outputs": [
    {
     "data": {
      "text/plain": [
       "5"
      ]
     },
     "execution_count": 7,
     "metadata": {},
     "output_type": "execute_result"
    }
   ],
   "source": [
    "numbers[-1]"
   ]
  },
  {
   "cell_type": "code",
   "execution_count": 8,
   "metadata": {},
   "outputs": [
    {
     "data": {
      "text/plain": [
       "(5, 4, 3, 2, 1)"
      ]
     },
     "execution_count": 8,
     "metadata": {},
     "output_type": "execute_result"
    }
   ],
   "source": [
    "numbers[::-1]"
   ]
  },
  {
   "cell_type": "code",
   "execution_count": 9,
   "metadata": {},
   "outputs": [
    {
     "name": "stdout",
     "output_type": "stream",
     "text": [
      "('apple', 'banana', 'cherry', 1, 2, 3, 4, 5)\n"
     ]
    }
   ],
   "source": [
    "## Tuples Operations:\n",
    "# 1. Concatenation\n",
    "tuple2 = tuple1 + numbers\n",
    "print(tuple2)\n"
   ]
  },
  {
   "cell_type": "code",
   "execution_count": 11,
   "metadata": {},
   "outputs": [
    {
     "name": "stdout",
     "output_type": "stream",
     "text": [
      "('apple', 'banana', 'cherry', 'apple', 'banana', 'cherry')\n",
      "(1, 2, 3, 4, 5, 1, 2, 3, 4, 5, 1, 2, 3, 4, 5)\n"
     ]
    }
   ],
   "source": [
    "# 2. Repetition\n",
    "tuple3 = tuple1 * 2\n",
    "print(tuple3)\n",
    "mumbers = numbers * 3\n",
    "print(mumbers)\n"
   ]
  },
  {
   "cell_type": "code",
   "execution_count": 12,
   "metadata": {},
   "outputs": [
    {
     "name": "stdout",
     "output_type": "stream",
     "text": [
      "True\n",
      "False\n"
     ]
    }
   ],
   "source": [
    "# 3. Membership\n",
    "print(\"apple\" in tuple1)\n",
    "print(\"apple\" not in tuple1)\n"
   ]
  },
  {
   "cell_type": "code",
   "execution_count": 13,
   "metadata": {},
   "outputs": [
    {
     "name": "stdout",
     "output_type": "stream",
     "text": [
      "apple\n",
      "banana\n",
      "cherry\n"
     ]
    }
   ],
   "source": [
    "# 4. Iteration\n",
    "for item in tuple1:\n",
    "    print(item)\n"
   ]
  },
  {
   "cell_type": "code",
   "execution_count": 14,
   "metadata": {},
   "outputs": [
    {
     "name": "stdout",
     "output_type": "stream",
     "text": [
      "(2, 3, 4)\n",
      "(2, 4)\n",
      "(5, 4, 3, 2, 1)\n"
     ]
    }
   ],
   "source": [
    "# 5. Slicing\n",
    "print(numbers[1:4])\n",
    "print(numbers[1:4:2])\n",
    "print(numbers[::-1])"
   ]
  },
  {
   "cell_type": "code",
   "execution_count": 15,
   "metadata": {},
   "outputs": [
    {
     "name": "stdout",
     "output_type": "stream",
     "text": [
      "5\n",
      "1\n",
      "1\n",
      "1\n",
      "5\n"
     ]
    }
   ],
   "source": [
    "# 6. Length\n",
    "print(len(numbers))\n",
    "\n",
    "# 7. Count\n",
    "print(numbers.count(2))\n",
    "\n",
    "# 8. Index\n",
    "print(numbers.index(2))\n",
    "\n",
    "# 9. Min and Max\n",
    "print(min(numbers))\n",
    "\n",
    "print(max(numbers))"
   ]
  },
  {
   "cell_type": "code",
   "execution_count": 16,
   "metadata": {},
   "outputs": [
    {
     "name": "stdout",
     "output_type": "stream",
     "text": [
      "(1, 2, 3, 4)\n",
      "1\n",
      "2\n",
      "3\n",
      "4\n"
     ]
    }
   ],
   "source": [
    "# 10. Tuple Methods\n",
    "# 1. count()\n",
    "# 2. index()\n",
    "\n",
    "# 11. Tuple Packing and Unpacking\n",
    "# Packing\n",
    "t = 1, 2, 3, 4\n",
    "print(t)\n",
    "\n",
    "# Unpacking\n",
    "a, b, c, d = t\n",
    "print(a)\n",
    "print(b)\n",
    "print(c)\n",
    "print(d)\n"
   ]
  },
  {
   "cell_type": "code",
   "execution_count": 17,
   "metadata": {},
   "outputs": [
    {
     "name": "stdout",
     "output_type": "stream",
     "text": [
      "<generator object <genexpr> at 0x000001CC0BD175E0>\n",
      "(0, 1, 4, 9, 16)\n"
     ]
    }
   ],
   "source": [
    "# 12. Tuple Comprehension\n",
    "# Tuple comprehension is not supported by Python, but you can use generator expressions to create tuples.\n",
    "# Example:\n",
    "\n",
    "t = (x**2 for x in range(5))\n",
    "print(t)\n",
    "print(tuple(t))"
   ]
  },
  {
   "cell_type": "code",
   "execution_count": 18,
   "metadata": {},
   "outputs": [],
   "source": [
    "# 13. Tuple Methods and Functions\n",
    "# 1. len()\n",
    "# 2. max()\n",
    "# 3. min()\n",
    "# 4. sum()\n",
    "# 5. sorted()\n",
    "# 6. any()\n",
    "# 7. all()\n",
    "# 8. enumerate()\n",
    "# 9. zip()\n",
    "# 10. reversed()\n",
    "# 11. tuple()\n",
    "# 12. count()\n",
    "# 13. index()\n",
    "# 14. del()\n",
    "# 15. clear()\n",
    "# 16. copy()\n",
    "# 17. append()\n",
    "# 18. extend()\n",
    "# 19. insert()\n",
    "# 20. remove()\n",
    "# 21. pop()"
   ]
  },
  {
   "cell_type": "code",
   "execution_count": 20,
   "metadata": {},
   "outputs": [
    {
     "name": "stdout",
     "output_type": "stream",
     "text": [
      "1\n",
      "[2, 3, 4]\n",
      "5\n"
     ]
    }
   ],
   "source": [
    "# unpacking with * operator\n",
    "\n",
    "a, *b, c = (1, 2, 3, 4, 5)\n",
    "print(a)\n",
    "print(b) # it is tacking all the values except the first and last\n",
    "print(c)\n"
   ]
  },
  {
   "cell_type": "code",
   "execution_count": 21,
   "metadata": {},
   "outputs": [
    {
     "name": "stdout",
     "output_type": "stream",
     "text": [
      "(1, 2, 3, (4, 5, 6))\n"
     ]
    }
   ],
   "source": [
    "# Nested Tuples\n",
    "t = (1, 2, 3, (4, 5, 6))\n",
    "print(t)\n"
   ]
  },
  {
   "cell_type": "code",
   "execution_count": 25,
   "metadata": {},
   "outputs": [
    {
     "name": "stdout",
     "output_type": "stream",
     "text": [
      "(4, 5, 6)\n",
      "4\n"
     ]
    }
   ],
   "source": [
    "print(t[3])\n",
    "print(t[3][0])"
   ]
  },
  {
   "cell_type": "code",
   "execution_count": 26,
   "metadata": {},
   "outputs": [
    {
     "ename": "TypeError",
     "evalue": "'tuple' object does not support item assignment",
     "output_type": "error",
     "traceback": [
      "\u001b[1;31m---------------------------------------------------------------------------\u001b[0m",
      "\u001b[1;31mTypeError\u001b[0m                                 Traceback (most recent call last)",
      "Cell \u001b[1;32mIn[26], line 4\u001b[0m\n\u001b[0;32m      1\u001b[0m \u001b[38;5;66;03m# Immutable\u001b[39;00m\n\u001b[0;32m      2\u001b[0m \u001b[38;5;66;03m# Tuples are immutable, which means you cannot change the values in a tuple.\u001b[39;00m\n\u001b[1;32m----> 4\u001b[0m \u001b[43mt\u001b[49m\u001b[43m[\u001b[49m\u001b[38;5;241;43m0\u001b[39;49m\u001b[43m]\u001b[49m \u001b[38;5;241m=\u001b[39m \u001b[38;5;241m5\u001b[39m\n\u001b[0;32m      5\u001b[0m \u001b[38;5;28mprint\u001b[39m(t)\n",
      "\u001b[1;31mTypeError\u001b[0m: 'tuple' object does not support item assignment"
     ]
    }
   ],
   "source": [
    "# Immutable\n",
    "# Tuples are immutable, which means you cannot change the values in a tuple.\n",
    "\n",
    "t[0] = 5\n",
    "print(t)"
   ]
  }
 ],
 "metadata": {
  "kernelspec": {
   "display_name": "Python 3",
   "language": "python",
   "name": "python3"
  },
  "language_info": {
   "codemirror_mode": {
    "name": "ipython",
    "version": 3
   },
   "file_extension": ".py",
   "mimetype": "text/x-python",
   "name": "python",
   "nbconvert_exporter": "python",
   "pygments_lexer": "ipython3",
   "version": "3.12.0"
  }
 },
 "nbformat": 4,
 "nbformat_minor": 2
}
