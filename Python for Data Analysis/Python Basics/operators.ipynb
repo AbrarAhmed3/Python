{
 "cells": [
  {
   "cell_type": "markdown",
   "metadata": {},
   "source": [
    "## Introduction to operator:\n",
    "### Definition: An operator is a symbol that tells the compiler to perform specific mathematical or logical manipulations.\n",
    "\n",
    "### Types of operator:\n",
    "- 1. Arithmetic operators\n",
    "- 2. Comparison operators\n",
    "- 3. Logical operators\n",
    "- 4. Bitwise operators\n",
    "- 5. Assignment operators\n",
    "- 6. Identity operators\n",
    "- 7. Membership operators\n",
    "\n",
    "### 1. Arithmetic operators:\n",
    "-  : Addition +\n",
    "-  : Subtraction -\n",
    "-  : Multiplication *\n",
    "- / : Division\n",
    "- % : Modulus\n",
    "- ** : Exponentiation\n",
    "- // : Floor division  (It returns the floor value of the division)\n"
   ]
  },
  {
   "cell_type": "code",
   "execution_count": 4,
   "metadata": {},
   "outputs": [
    {
     "name": "stdout",
     "output_type": "stream",
     "text": [
      "15\n",
      "5\n",
      "50\n",
      "2.0\n",
      "0\n",
      "100000\n",
      "2\n"
     ]
    }
   ],
   "source": [
    "# Arithmetic Operators :\n",
    "\n",
    "a = 10\n",
    "b = 5\n",
    "\n",
    "# Addition\n",
    "print(a + b)\n",
    "\n",
    "# Subtraction\n",
    "print(a - b)\n",
    "\n",
    "# Multiplication\n",
    "print(a * b)\n",
    "\n",
    "# Division\n",
    "print(a / b)\n",
    "\n",
    "# Modulus\n",
    "print(a % b)\n",
    "\n",
    "# Exponentiation\n",
    "print(a ** b)\n",
    "\n",
    "# Floor Division\n",
    "print(a // b)\n",
    "\n"
   ]
  },
  {
   "cell_type": "code",
   "execution_count": 5,
   "metadata": {},
   "outputs": [
    {
     "data": {
      "text/plain": [
       "4.2"
      ]
     },
     "execution_count": 5,
     "metadata": {},
     "output_type": "execute_result"
    }
   ],
   "source": [
    "21/5"
   ]
  },
  {
   "cell_type": "code",
   "execution_count": 6,
   "metadata": {},
   "outputs": [
    {
     "data": {
      "text/plain": [
       "4"
      ]
     },
     "execution_count": 6,
     "metadata": {},
     "output_type": "execute_result"
    }
   ],
   "source": [
    "21//5"
   ]
  },
  {
   "cell_type": "code",
   "execution_count": 7,
   "metadata": {},
   "outputs": [
    {
     "name": "stdout",
     "output_type": "stream",
     "text": [
      "15\n",
      "25\n",
      "15\n",
      "150\n",
      "15.0\n",
      "5.0\n",
      "9765625.0\n",
      "976562.0\n"
     ]
    }
   ],
   "source": [
    "# Assignment Operators :\n",
    "c = a + b\n",
    "print(c)\n",
    "\n",
    "c += a\n",
    "print(c)\n",
    "\n",
    "c -= a\n",
    "print(c)\n",
    "\n",
    "c *= a\n",
    "print(c)\n",
    "\n",
    "c /= a\n",
    "print(c)\n",
    "\n",
    "c %= a\n",
    "print(c)\n",
    "\n",
    "c **= a\n",
    "print(c)\n",
    "\n",
    "c //= a\n",
    "print(c)"
   ]
  },
  {
   "cell_type": "code",
   "execution_count": 12,
   "metadata": {},
   "outputs": [
    {
     "name": "stdout",
     "output_type": "stream",
     "text": [
      "False\n",
      "True\n",
      "True\n",
      "False\n",
      "True\n",
      "False\n"
     ]
    }
   ],
   "source": [
    "## Comparison Operators :\n",
    "a = 10\n",
    "b = 5\n",
    "\n",
    "print(a == b)   # Equal to\n",
    "print(a != b)   # Not Equal to\n",
    "print(a > b)    # Greater than\n",
    "print(a < b)    # Less than\n",
    "print(a >= b)   # Greater than or equal to\n",
    "print(a <= b)   # Less than or equal to"
   ]
  },
  {
   "cell_type": "code",
   "execution_count": 10,
   "metadata": {},
   "outputs": [
    {
     "name": "stdout",
     "output_type": "stream",
     "text": [
      "True\n"
     ]
    }
   ],
   "source": [
    "name = \"Abrar\"\n",
    "name2 = \"Abrar\"\n",
    "\n",
    "print(name == name2)"
   ]
  },
  {
   "cell_type": "code",
   "execution_count": 13,
   "metadata": {},
   "outputs": [
    {
     "name": "stdout",
     "output_type": "stream",
     "text": [
      "True\n"
     ]
    }
   ],
   "source": [
    "a= 10\n",
    "b= 10\n",
    "\n",
    "print(a >= b)"
   ]
  },
  {
   "cell_type": "code",
   "execution_count": 14,
   "metadata": {},
   "outputs": [
    {
     "name": "stdout",
     "output_type": "stream",
     "text": [
      "False\n",
      "True\n",
      "False\n"
     ]
    }
   ],
   "source": [
    "## Logical Operators :\n",
    "## and, or, not\n",
    "\n",
    "## and : Returns True if both statements are true\n",
    "## or : Returns True if one of the statements is true\n",
    "## not : Reverse the result, returns False if the result is true\n",
    "\n",
    "a = True\n",
    "b = False\n",
    "\n",
    "print(a and b)\n",
    "print(a or b)\n",
    "print(not a)\n"
   ]
  },
  {
   "cell_type": "code",
   "execution_count": 17,
   "metadata": {},
   "outputs": [
    {
     "name": "stdout",
     "output_type": "stream",
     "text": [
      "True\n",
      "False\n"
     ]
    }
   ],
   "source": [
    "x= True\n",
    "y= True\n",
    "z= False\n",
    "\n",
    "print(x and y)\n",
    "print(x and z)"
   ]
  },
  {
   "cell_type": "code",
   "execution_count": 18,
   "metadata": {},
   "outputs": [
    {
     "name": "stdout",
     "output_type": "stream",
     "text": [
      "False\n",
      "True\n"
     ]
    }
   ],
   "source": [
    "x= False\n",
    "y= False\n",
    "z= True\n",
    "\n",
    "print(x or y)\n",
    "print(x or z)"
   ]
  },
  {
   "cell_type": "code",
   "execution_count": 19,
   "metadata": {},
   "outputs": [
    {
     "name": "stdout",
     "output_type": "stream",
     "text": [
      "False\n",
      "True\n",
      "True\n"
     ]
    }
   ],
   "source": [
    "x= True\n",
    "y= False\n",
    "z= False\n",
    "\n",
    "print(not x)\n",
    "print(not y)\n",
    "print(not z)"
   ]
  }
 ],
 "metadata": {
  "kernelspec": {
   "display_name": "Python 3",
   "language": "python",
   "name": "python3"
  },
  "language_info": {
   "codemirror_mode": {
    "name": "ipython",
    "version": 3
   },
   "file_extension": ".py",
   "mimetype": "text/x-python",
   "name": "python",
   "nbconvert_exporter": "python",
   "pygments_lexer": "ipython3",
   "version": "3.12.0"
  }
 },
 "nbformat": 4,
 "nbformat_minor": 2
}
