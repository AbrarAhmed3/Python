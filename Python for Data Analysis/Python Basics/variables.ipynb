{
 "cells": [
  {
   "cell_type": "markdown",
   "metadata": {},
   "source": [
    "### Variables\n",
    "\n",
    "#### Variables are fundamental elements in programming used to store data that can be referenced and manipulated in a program. In Python, variables are created when you assign a value to them, and they do not need explicit declaration to reserve memory space. The declaration happens automatically when you assign a value to a variable."
   ]
  },
  {
   "cell_type": "code",
   "execution_count": 1,
   "metadata": {},
   "outputs": [],
   "source": [
    "a = 100"
   ]
  },
  {
   "cell_type": "code",
   "execution_count": 2,
   "metadata": {},
   "outputs": [
    {
     "name": "stdout",
     "output_type": "stream",
     "text": [
      "age:  23\n",
      "height:  5.2\n",
      "name:  Abrar\n",
      "is_student:  True\n"
     ]
    }
   ],
   "source": [
    "## Declaring and analyzing variables\n",
    "\n",
    "age = 23\n",
    "height = 5.2\n",
    "name = \"Abrar\"\n",
    "is_student = True\n",
    "\n",
    "## printing variables\n",
    "print(\"age: \",age)\n",
    "print(\"height: \",height)\n",
    "print(\"name: \",name)\n",
    "print(\"is_student: \",is_student)"
   ]
  },
  {
   "cell_type": "code",
   "execution_count": 3,
   "metadata": {},
   "outputs": [],
   "source": [
    "## Naming conventions\n",
    "# 1. Variable names must start with a letter or an underscore.\n",
    "# 2. The remainder of your variable name may consist of letters, numbers and underscores.\n",
    "# 3. Names are case sensitive.\n",
    "# 4. Avoid using Python built-in keywords like list and str \n",
    "# 5. Use a name that describes the variable well.\n",
    "# 6. Use camelCase notation to declare variables. For example: myVariableName\n",
    "# 7. Use underscore notation to declare variables. For example: my_variable_name\n",
    "# 8. Use capital letters where a variable will not change. For example: PI = 3.14\n"
   ]
  },
  {
   "cell_type": "code",
   "execution_count": 4,
   "metadata": {},
   "outputs": [],
   "source": [
    "## Understanding Variable Types\n",
    "# 1. Integer\n",
    "# 2. Float\n",
    "# 3. String\n",
    "# 4. Boolean\n",
    "# 5. List\n",
    "# 6. Tuple\n",
    "# 7. Dictionary\n",
    "# 8. Set\n",
    "\n",
    "## Python is dynamically typed language which means you don't have to declare the type of variable while declaring it.variable is determined at runtime.\n"
   ]
  },
  {
   "cell_type": "code",
   "execution_count": 5,
   "metadata": {},
   "outputs": [
    {
     "data": {
      "text/plain": [
       "int"
      ]
     },
     "execution_count": 5,
     "metadata": {},
     "output_type": "execute_result"
    }
   ],
   "source": [
    "## Type Checking and Type Conversion\n",
    "\n",
    "type(age) # int"
   ]
  },
  {
   "cell_type": "code",
   "execution_count": 6,
   "metadata": {},
   "outputs": [
    {
     "name": "stdout",
     "output_type": "stream",
     "text": [
      "<class 'int'>\n",
      "23\n",
      "<class 'str'>\n"
     ]
    }
   ],
   "source": [
    "age = 23\n",
    "print(type(age)) # int\n",
    "\n",
    "# Type Conversion   \n",
    "age_str = str(age)\n",
    "print(age_str)\n",
    "print(type(age_str)) # str"
   ]
  },
  {
   "cell_type": "code",
   "execution_count": 8,
   "metadata": {},
   "outputs": [
    {
     "name": "stdout",
     "output_type": "stream",
     "text": [
      "23 <class 'int'>\n",
      "Twenty Three <class 'str'>\n"
     ]
    }
   ],
   "source": [
    "## Dynamic Typing\n",
    "## Python allows the type of a variable to change as the program executes.\n",
    "age = 23\n",
    "print(age,type(age))\n",
    "age = \"Twenty Three\"\n",
    "print(age,type(age))\n",
    "\n"
   ]
  },
  {
   "cell_type": "code",
   "execution_count": 14,
   "metadata": {},
   "outputs": [
    {
     "name": "stdout",
     "output_type": "stream",
     "text": [
      "23 <class 'int'>\n"
     ]
    }
   ],
   "source": [
    "## Input\n",
    "age = int(input(\"Enter your age: \"))\n",
    "print(age, type(age))"
   ]
  },
  {
   "cell_type": "code",
   "execution_count": 16,
   "metadata": {},
   "outputs": [
    {
     "name": "stdout",
     "output_type": "stream",
     "text": [
      "Addition:  30\n",
      "Subtraction:  10\n",
      "Multiplication:  200\n",
      "Division:  2.0\n"
     ]
    }
   ],
   "source": [
    "## Simple Calculator\n",
    "num1 = int(input(\"Enter first number: \"))\n",
    "num2 = int(input(\"Enter second number: \"))\n",
    "\n",
    "add = num1 + num2\n",
    "sub = num1 - num2\n",
    "mul = num1 * num2\n",
    "div = num1 / num2\n",
    "\n",
    "print(\"Addition: \",add)\n",
    "print(\"Subtraction: \",sub)\n",
    "print(\"Multiplication: \",mul)\n",
    "print(\"Division: \",div)\n"
   ]
  },
  {
   "cell_type": "code",
   "execution_count": null,
   "metadata": {},
   "outputs": [],
   "source": []
  }
 ],
 "metadata": {
  "kernelspec": {
   "display_name": "Python 3",
   "language": "python",
   "name": "python3"
  },
  "language_info": {
   "codemirror_mode": {
    "name": "ipython",
    "version": 3
   },
   "file_extension": ".py",
   "mimetype": "text/x-python",
   "name": "python",
   "nbconvert_exporter": "python",
   "pygments_lexer": "ipython3",
   "version": "3.12.0"
  }
 },
 "nbformat": 4,
 "nbformat_minor": 2
}
