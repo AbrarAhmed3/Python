{
 "cells": [
  {
   "cell_type": "markdown",
   "id": "514d7d2f",
   "metadata": {},
   "source": [
    "# LAB 1 Python (10 Programs) :->"
   ]
  },
  {
   "cell_type": "markdown",
   "id": "88e25037",
   "metadata": {},
   "source": [
    "### 1. WAP to convert tempreture from Celsius to Fahrenheit."
   ]
  },
  {
   "cell_type": "code",
   "execution_count": 5,
   "id": "54cbc6ea",
   "metadata": {},
   "outputs": [
    {
     "name": "stdout",
     "output_type": "stream",
     "text": [
      "Enter the Tempreture in Celsius: 32\n",
      "32 Celsius == 89.6 Fahrenheit\n"
     ]
    }
   ],
   "source": [
    "celsius = int(input(\"Enter the Tempreture in Celsius: \"))\n",
    "fahrenheit = ((celsius * 1.8) + 32)\n",
    "print(celsius,'Celsius ==',fahrenheit,'Fahrenheit')"
   ]
  },
  {
   "cell_type": "markdown",
   "id": "f7f4566d",
   "metadata": {},
   "source": [
    "### 2.WAP to swap two Numbers."
   ]
  },
  {
   "cell_type": "code",
   "execution_count": 19,
   "id": "40f6ebc8",
   "metadata": {},
   "outputs": [
    {
     "name": "stdout",
     "output_type": "stream",
     "text": [
      "Enter the Number1: 31\n",
      "Enter the Number2: 54\n",
      "\n",
      "Before swaping:-> \n",
      "Number1:  31\n",
      "Number2:  54\n",
      "--------------------\n",
      "After Swaping:-> \n",
      "Number1:  54 \n",
      "Number2:  31\n"
     ]
    }
   ],
   "source": [
    "number1 = int(input(\"Enter the Number1: \"))\n",
    "number2 = int(input(\"Enter the Number2: \"))\n",
    "print(\"\\nBefore swaping:-> \\nNumber1: \",number1)\n",
    "print(\"Number2: \",number2)\n",
    "\n",
    "temp = number1\n",
    "number1 = number2\n",
    "number2 = temp\n",
    "\n",
    "print(\"--------------------\")\n",
    "print(\"After Swaping:-> \\nNumber1: \",number1,\"\\nNumber2: \",number2)"
   ]
  },
  {
   "cell_type": "markdown",
   "id": "bc1a7577",
   "metadata": {},
   "source": [
    "### 3.WAP to check whether a given year is Leap year or not."
   ]
  },
  {
   "cell_type": "code",
   "execution_count": 2,
   "id": "222da5ec",
   "metadata": {},
   "outputs": [
    {
     "name": "stdout",
     "output_type": "stream",
     "text": [
      "Enter the Year: 2000\n",
      "2000 is leap year\n"
     ]
    }
   ],
   "source": [
    "year = int(input(\"Enter the Year: \"))\n",
    "\n",
    "if(year % 400 == 0) or (year % 4 == 0 and year % 100 != 0):\n",
    "    print(year,\"is leap year\")\n",
    "else:\n",
    "    print(year,\"is Not a leap year\")"
   ]
  },
  {
   "cell_type": "markdown",
   "id": "9ed590df",
   "metadata": {},
   "source": [
    "### 4.WAP to display reverse of a number."
   ]
  },
  {
   "cell_type": "code",
   "execution_count": 31,
   "id": "0a2a95cf",
   "metadata": {},
   "outputs": [
    {
     "name": "stdout",
     "output_type": "stream",
     "text": [
      "Enter a number: 123\n",
      "Resereved Number:  321\n"
     ]
    }
   ],
   "source": [
    "number = int(input(\"Enter a number: \"))\n",
    "reserved_num = 0\n",
    "while number != 0:\n",
    "    digit = number % 10\n",
    "    reserved_num = reserved_num * 10 + digit\n",
    "    number //= 10\n",
    "print(\"Resereved Number: \",reserved_num)"
   ]
  },
  {
   "cell_type": "markdown",
   "id": "63701700",
   "metadata": {},
   "source": [
    "### 5.WAP to find factors of a given Number."
   ]
  },
  {
   "cell_type": "code",
   "execution_count": 44,
   "id": "b3fadb23",
   "metadata": {},
   "outputs": [
    {
     "name": "stdout",
     "output_type": "stream",
     "text": [
      "Enter the Number: 10\n",
      "1,2,5,10, -> are the factors of 10\n"
     ]
    }
   ],
   "source": [
    "number = int(input(\"Enter the Number: \"))\n",
    "i = 1\n",
    "while i <= number:\n",
    "    if(number % i == 0):\n",
    "        print(i,end=\",\")\n",
    "    i = i + 1\n",
    "print(\" -> are the factors of\",number)"
   ]
  },
  {
   "cell_type": "markdown",
   "id": "19734140",
   "metadata": {},
   "source": [
    "### 6.WAP to generate prime number series up to n."
   ]
  },
  {
   "cell_type": "code",
   "execution_count": 28,
   "id": "630d21ef",
   "metadata": {},
   "outputs": [
    {
     "name": "stdout",
     "output_type": "stream",
     "text": [
      "Enter the range: 10\n",
      "2,3,5,7,"
     ]
    }
   ],
   "source": [
    "range_upto = int(input(\"Enter the range: \"))\n",
    "for number in range(1,range_upto+1):\n",
    "    if number > 1:\n",
    "        for i in range (2,number):\n",
    "            if(number%i)==0:\n",
    "                break\n",
    "        else:\n",
    "            print(number, end=\",\")\n",
    "    "
   ]
  },
  {
   "cell_type": "markdown",
   "id": "c2fdbad6",
   "metadata": {},
   "source": [
    "### 7.Write a program which makes use of function to display all such numbers which are divisible by 7 but are not a multiple of 5, between 1000 and 2000."
   ]
  },
  {
   "cell_type": "code",
   "execution_count": 27,
   "id": "e5e7b172",
   "metadata": {},
   "outputs": [
    {
     "name": "stdout",
     "output_type": "stream",
     "text": [
      "[1001, 1008, 1022, 1029, 1036, 1043, 1057, 1064, 1071, 1078, 1092, 1099, 1106, 1113, 1127, 1134, 1141, 1148, 1162, 1169, 1176, 1183, 1197, 1204, 1211, 1218, 1232, 1239, 1246, 1253, 1267, 1274, 1281, 1288, 1302, 1309, 1316, 1323, 1337, 1344, 1351, 1358, 1372, 1379, 1386, 1393, 1407, 1414, 1421, 1428, 1442, 1449, 1456, 1463, 1477, 1484, 1491, 1498, 1512, 1519, 1526, 1533, 1547, 1554, 1561, 1568, 1582, 1589, 1596, 1603, 1617, 1624, 1631, 1638, 1652, 1659, 1666, 1673, 1687, 1694, 1701, 1708, 1722, 1729, 1736, 1743, 1757, 1764, 1771, 1778, 1792, 1799, 1806, 1813, 1827, 1834, 1841, 1848, 1862, 1869, 1876, 1883, 1897, 1904, 1911, 1918, 1932, 1939, 1946, 1953, 1967, 1974, 1981, 1988]\n"
     ]
    }
   ],
   "source": [
    "def display(n1, n2):\n",
    "    results = []\n",
    "    for i in range(n1, n2+1):\n",
    "        if(i%7 == 0)and(i%5 !=0):\n",
    "            results.append(i)\n",
    "    return results\n",
    "n1 = 1000\n",
    "n2 = 2000\n",
    "print(display(n1,n2))"
   ]
  },
  {
   "cell_type": "markdown",
   "id": "fa8f0944",
   "metadata": {},
   "source": [
    "### 8. WAP to check whether a number is palindrome or not."
   ]
  },
  {
   "cell_type": "code",
   "execution_count": 31,
   "id": "aab832d1",
   "metadata": {},
   "outputs": [
    {
     "name": "stdout",
     "output_type": "stream",
     "text": [
      "Enter a number: 123\n",
      "123 is Not palindrome\n"
     ]
    }
   ],
   "source": [
    "number = int(input(\"Enter a number: \"))\n",
    "temp = number\n",
    "reserved_num = 0\n",
    "while number != 0:\n",
    "    digit = number % 10\n",
    "    reserved_num = reserved_num * 10 + digit\n",
    "    number //= 10\n",
    "\n",
    "    \n",
    "if(reserved_num == temp):\n",
    "    print(temp,\"is palindrome\")\n",
    "else:\n",
    "    print(temp,\"is Not palindrome\")\n"
   ]
  },
  {
   "cell_type": "markdown",
   "id": "d8116123",
   "metadata": {},
   "source": [
    "### 9.WAP to check:\n",
    "    a) is a perfect number.\n",
    "    b) is an Armstrong number."
   ]
  },
  {
   "cell_type": "code",
   "execution_count": 48,
   "id": "55fcf9fc",
   "metadata": {},
   "outputs": [
    {
     "name": "stdout",
     "output_type": "stream",
     "text": [
      "Enter a Number: 6\n",
      "6 is a Perfect Number!\n",
      "6 is Not an Armstrong Number!\n"
     ]
    }
   ],
   "source": [
    "#Perfect Number\n",
    "def perfect_num(number):\n",
    "    sum1 = 0\n",
    "    for i in range(1,number):\n",
    "        if(number % i ==0):\n",
    "            sum1 = sum1 + i\n",
    "    if(sum1 == number):\n",
    "        print(number,\"is a Perfect Number!\")\n",
    "    else:\n",
    "        print(number,\"is Not a Perfect Number!\")\n",
    "def armstrong_num(number):\n",
    "    digit_sum = 0\n",
    "    temp = number\n",
    "    while temp > 0:\n",
    "        digit = temp % 10\n",
    "        digit_sum += digit **3\n",
    "        temp //= 10\n",
    "    if (number == digit_sum):\n",
    "        print(number,\"is an Armstrong Number!\")\n",
    "    else:\n",
    "        print(number,\"is Not an Armstrong Number!\")\n",
    "        \n",
    "number = int(input(\"Enter a Number: \"))\n",
    "\n",
    "perfect_num(number)\n",
    "armstrong_num(number)"
   ]
  },
  {
   "cell_type": "markdown",
   "id": "35a3997c",
   "metadata": {},
   "source": [
    "### 10.WAP to generate the fibonacci series upto n."
   ]
  },
  {
   "cell_type": "code",
   "execution_count": 14,
   "id": "98fef291",
   "metadata": {},
   "outputs": [
    {
     "name": "stdout",
     "output_type": "stream",
     "text": [
      "Enter the range: 10\n",
      "1\n",
      "1\n",
      "2\n",
      "3\n",
      "5\n",
      "8\n",
      "13\n",
      "21\n",
      "34\n"
     ]
    }
   ],
   "source": [
    "number = int(input(\"Enter the range: \"))\n",
    "pre_num = 1\n",
    "present_num = 1\n",
    "for i in range(1, number):\n",
    "    print(pre_num)\n",
    "    next_num = pre_num + present_num\n",
    "    \n",
    "    pre_num = present_num\n",
    "    present_num= next_num"
   ]
  },
  {
   "cell_type": "markdown",
   "id": "c65a9c4d",
   "metadata": {},
   "source": [
    "# LAB 1 JAVA to Python  (10 Programs) :->"
   ]
  },
  {
   "cell_type": "markdown",
   "id": "1eebe229",
   "metadata": {},
   "source": [
    "### 11. WAP to print your name."
   ]
  },
  {
   "cell_type": "code",
   "execution_count": 3,
   "id": "2cc588ec",
   "metadata": {},
   "outputs": [
    {
     "name": "stdout",
     "output_type": "stream",
     "text": [
      "Enter your name: Abrar Ahmed\n",
      "Good Morning! Abrar Ahmed\n"
     ]
    }
   ],
   "source": [
    "name = input(\"Enter your name: \")\n",
    "print(\"Good Morning!\", name)"
   ]
  },
  {
   "cell_type": "markdown",
   "id": "0f2ea2c5",
   "metadata": {},
   "source": [
    "### 12. WAP to add two numbers."
   ]
  },
  {
   "cell_type": "code",
   "execution_count": 4,
   "id": "fd71c9a5",
   "metadata": {},
   "outputs": [
    {
     "name": "stdout",
     "output_type": "stream",
     "text": [
      "Enter the 1st Number: 25\n",
      "Enter the 2nd Number: 12\n",
      "Total of 1st & 2nd Number is:  37\n"
     ]
    }
   ],
   "source": [
    "number1 = int(input(\"Enter the 1st Number: \"))\n",
    "number2 = int(input(\"Enter the 2nd Number: \"))\n",
    "\n",
    "print(\"Total of 1st & 2nd Number is: \", number1 + number2)"
   ]
  },
  {
   "cell_type": "markdown",
   "id": "561df389",
   "metadata": {},
   "source": [
    "### 13. WAP to convert tempreture from Celsius to Fahrenheit."
   ]
  },
  {
   "cell_type": "code",
   "execution_count": 7,
   "id": "5e11f9a5",
   "metadata": {},
   "outputs": [
    {
     "name": "stdout",
     "output_type": "stream",
     "text": [
      "Enter the Tempreture in Celsius: 32.5\n",
      "32.5 Celsius == 90.5 Fahrenheit\n"
     ]
    }
   ],
   "source": [
    "celsius = float(input(\"Enter the Tempreture in Celsius: \"))\n",
    "fahrenheit = ((celsius * 1.8) + 32)\n",
    "print(celsius,'Celsius ==',fahrenheit,'Fahrenheit')"
   ]
  },
  {
   "cell_type": "markdown",
   "id": "d055a153",
   "metadata": {},
   "source": [
    "### 14. WAP to convert tempreture from fahrenheit to Celsius."
   ]
  },
  {
   "cell_type": "code",
   "execution_count": 6,
   "id": "61091033",
   "metadata": {},
   "outputs": [
    {
     "name": "stdout",
     "output_type": "stream",
     "text": [
      "Enter the tempreture in Fahrenheit: 89.6\n",
      "89.6 fahrenheit == 32.0 Celsius\n"
     ]
    }
   ],
   "source": [
    "fahrenheit = float(input(\"Enter the tempreture in Fahrenheit: \"))\n",
    "celsius = (((fahrenheit - 32)*5)/9)\n",
    "print(fahrenheit,\"fahrenheit ==\", celsius,\"Celsius\")"
   ]
  },
  {
   "cell_type": "markdown",
   "id": "341dbef7",
   "metadata": {},
   "source": [
    "### 15.WAP to find area and perimeter of rectangle."
   ]
  },
  {
   "cell_type": "code",
   "execution_count": 2,
   "id": "e7c74845",
   "metadata": {},
   "outputs": [
    {
     "name": "stdout",
     "output_type": "stream",
     "text": [
      "Enter length: 5\n",
      "Enter width: 3\n",
      "Area is:  15\n",
      "Perimeter is:  16\n"
     ]
    }
   ],
   "source": [
    "length = int(input(\"Enter length: \"))\n",
    "width = int(input(\"Enter width: \"))\n",
    "\n",
    "area = length * width\n",
    "perimeter = 2 * (length + width)\n",
    "\n",
    "print(\"Area is: \",area)\n",
    "print(\"Perimeter is: \", perimeter)"
   ]
  },
  {
   "cell_type": "markdown",
   "id": "0de08ef4",
   "metadata": {},
   "source": [
    "### 16.WAP to find area and perimeter of a circle."
   ]
  },
  {
   "cell_type": "code",
   "execution_count": 3,
   "id": "2e31e01b",
   "metadata": {},
   "outputs": [
    {
     "name": "stdout",
     "output_type": "stream",
     "text": [
      "Enter radius: 4\n",
      "Area is:  50.24\n",
      "Perimeter is:  25.12\n"
     ]
    }
   ],
   "source": [
    "radius = int(input(\"Enter radius: \"))\n",
    "\n",
    "area = 3.14 * radius ** 2\n",
    "perimeter = 2 * 3.14 * radius\n",
    "\n",
    "print(\"Area is: \",area)\n",
    "print(\"Perimeter is: \", perimeter)"
   ]
  },
  {
   "cell_type": "markdown",
   "id": "ec65bbcb",
   "metadata": {},
   "source": [
    "### 17.WAP to display whether a number is odd or Even"
   ]
  },
  {
   "cell_type": "code",
   "execution_count": 20,
   "id": "b6bc32da",
   "metadata": {},
   "outputs": [
    {
     "name": "stdout",
     "output_type": "stream",
     "text": [
      "Enter a Number: 5\n",
      "5 is an Odd Number\n"
     ]
    }
   ],
   "source": [
    "number = int(input(\"Enter a Number: \"))\n",
    "if number > 1:\n",
    "    \n",
    "    if (number % 2 == 0):\n",
    "        print(number,\"is an Even Number\")\n",
    "    else:\n",
    "        print(number,\"is an Odd Number\")\n",
    "else:\n",
    "    print(\"The Number is either 0 or 1\")"
   ]
  },
  {
   "cell_type": "markdown",
   "id": "63f37561",
   "metadata": {},
   "source": [
    "### 18.WAP to check if a number is positive or negative."
   ]
  },
  {
   "cell_type": "code",
   "execution_count": 25,
   "id": "7ac3fe52",
   "metadata": {},
   "outputs": [
    {
     "name": "stdout",
     "output_type": "stream",
     "text": [
      "Enter a Number: 100\n",
      "100 is a Positive Number\n"
     ]
    }
   ],
   "source": [
    "number = int(input(\"Enter a Number: \"))\n",
    "\n",
    "if number > 0:\n",
    "    print(number,\"is a Positive Number\")\n",
    "elif number < 0:\n",
    "    print(number,\"is a Negative Number\")\n",
    "else:\n",
    "    print(\"The Number is Zero\")"
   ]
  },
  {
   "cell_type": "markdown",
   "id": "4cd80c06",
   "metadata": {},
   "source": [
    "### 19.WAP  to find the maximum of three numbers."
   ]
  },
  {
   "cell_type": "code",
   "execution_count": 31,
   "id": "4c8f134a",
   "metadata": {},
   "outputs": [
    {
     "name": "stdout",
     "output_type": "stream",
     "text": [
      "Enter the 1st number: 321\n",
      "Enter the 2nd number: 21\n",
      "Enter the 3rd number: 1\n",
      "Number 1 is Maximum of three.\n"
     ]
    }
   ],
   "source": [
    "number1 = int(input(\"Enter the 1st number: \"))\n",
    "number2 = int(input(\"Enter the 2nd number: \"))\n",
    "number3 = int(input(\"Enter the 3rd number: \"))\n",
    "\n",
    "if (number1 >= number2)and (number1 >= number3):\n",
    "    print(\"Number 1 is Maximum of three.\")\n",
    "elif (number2 >= number1)and (number2 >= number3):\n",
    "     print(\"Number2  is Maximum of three.\")\n",
    "else:\n",
    "     print(\"Number3 is Maximum of three.\")"
   ]
  },
  {
   "cell_type": "markdown",
   "id": "6ee04347",
   "metadata": {},
   "source": [
    "### 20.WAP to swap two numbers."
   ]
  },
  {
   "cell_type": "code",
   "execution_count": 32,
   "id": "f8a7b906",
   "metadata": {},
   "outputs": [
    {
     "name": "stdout",
     "output_type": "stream",
     "text": [
      "Enter the Number1: 32\n",
      "Enter the Number2: 45\n",
      "\n",
      "Before swaping:-> \n",
      "Number1:  32\n",
      "Number2:  45\n",
      "--------------------\n",
      "After Swaping:-> \n",
      "Number1:  45 \n",
      "Number2:  32\n"
     ]
    }
   ],
   "source": [
    "number1 = int(input(\"Enter the Number1: \"))\n",
    "number2 = int(input(\"Enter the Number2: \"))\n",
    "print(\"\\nBefore swaping:-> \\nNumber1: \",number1)\n",
    "print(\"Number2: \",number2)\n",
    "\n",
    "temp = number1\n",
    "number1 = number2\n",
    "number2 = temp\n",
    "\n",
    "print(\"--------------------\")\n",
    "print(\"After Swaping:-> \\nNumber1: \",number1,\"\\nNumber2: \",number2)"
   ]
  },
  {
   "cell_type": "code",
   "execution_count": null,
   "id": "9b3e1987",
   "metadata": {},
   "outputs": [],
   "source": []
  }
 ],
 "metadata": {
  "kernelspec": {
   "display_name": "Python 3 (ipykernel)",
   "language": "python",
   "name": "python3"
  },
  "language_info": {
   "codemirror_mode": {
    "name": "ipython",
    "version": 3
   },
   "file_extension": ".py",
   "mimetype": "text/x-python",
   "name": "python",
   "nbconvert_exporter": "python",
   "pygments_lexer": "ipython3",
   "version": "3.11.5"
  }
 },
 "nbformat": 4,
 "nbformat_minor": 5
}
